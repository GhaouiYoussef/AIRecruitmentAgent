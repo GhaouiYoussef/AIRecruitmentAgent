{
 "cells": [
  {
   "cell_type": "markdown",
   "id": "cdd1079c",
   "metadata": {},
   "source": [
    "# Selenium for candidates scrapping"
   ]
  },
  {
   "cell_type": "code",
   "execution_count": 1,
   "id": "fb925702",
   "metadata": {},
   "outputs": [],
   "source": [
    "import selenium\n",
    "# Selinium --- IGNORE ---\n",
    "from selenium import webdriver\n",
    "from selenium.webdriver.common.by import By\n",
    "from selenium.webdriver.chrome.service import Service\n",
    "from selenium.webdriver.chrome.options import Options\n",
    "from selenium.webdriver.support.ui import WebDriverWait\n",
    "from selenium.webdriver.support import expected_conditions as EC\n",
    "from selenium.common.exceptions import TimeoutException\n",
    "import time\n",
    "import pandas as pd"
   ]
  },
  {
   "cell_type": "code",
   "execution_count": 2,
   "id": "4d9be2e1",
   "metadata": {},
   "outputs": [],
   "source": [
    "# let's try to scrape some data from a website using Selenium\n",
    "\n",
    "# Set up Chrome options\n",
    "chrome_options = Options()\n",
    "# chrome_options.add_argument(\"--headless\")  # Run in headless mode\n",
    "chrome_options.add_argument(\"--disable-dev-shm-usage\")\n",
    "chrome_options.add_argument(\"--disable-gpu\")\n",
    "chrome_options.add_argument(\"--window-size=1920,1080\")\n",
    "chrome_options.add_argument(\"--disable-extensions\")\n",
    "chrome_options.add_argument(\"--disable-infobars\")\n",
    "def start_driver():\n",
    "    driver = webdriver.Chrome(options=chrome_options)\n",
    "    return driver\n",
    "\n",
    "# Path to your ChromeDriver\n",
    "chrome_driver_path = r'C:\\YoussefENSI_backup\\Eukliadia-test\\chromedriver.exe'  # Update this path\n",
    "service = Service(chrome_driver_path)\n",
    "# opening chrome window\n",
    "driver = webdriver.Chrome(service=service, options=chrome_options,)\n"
   ]
  },
  {
   "cell_type": "code",
   "execution_count": 3,
   "id": "031fbee6",
   "metadata": {},
   "outputs": [],
   "source": [
    "# let's try to scrape some data from a website using Selenium\n",
    "\n",
    "# Set up Chrome options\n",
    "chrome_options = Options()\n",
    "# chrome_options.add_argument(\"--headless\")  # Run in headless mode\n",
    "chrome_options.add_argument(\"--disable-dev-shm-usage\")\n",
    "chrome_options.add_argument(\"--disable-gpu\")\n",
    "chrome_options.add_argument(\"--window-size=1920,1080\")\n",
    "chrome_options.add_argument(\"--disable-extensions\")\n",
    "chrome_options.add_argument(\"--disable-infobars\")\n",
    "def start_driver():\n",
    "    driver = webdriver.Chrome(options=chrome_options)\n",
    "    return driver\n",
    "\n",
    "# Path to your ChromeDriver\n",
    "chrome_driver_path = r'C:\\YoussefENSI_backup\\Eukliadia-test\\chromedriver.exe'  # Update this path\n",
    "service = Service(chrome_driver_path)\n",
    "# opening chrome window\n",
    "driver = webdriver.Chrome(service=service, options=chrome_options,)\n"
   ]
  },
  {
   "cell_type": "code",
   "execution_count": 4,
   "id": "9189cbf2",
   "metadata": {},
   "outputs": [
    {
     "name": "stdout",
     "output_type": "stream",
     "text": [
      "Page is ready!\n"
     ]
    }
   ],
   "source": [
    "\n",
    "driver.get('https://www.linkedin.com/login?fromSignIn=true&trk=guest_homepage-basic_nav-header-signin')  # Replace with the target URL\n",
    "try:\n",
    "    # Wait until the element is present\n",
    "    element = WebDriverWait(driver, 10)\n",
    "    print(\"Page is ready!\")\n",
    "except TimeoutException:\n",
    "    print(\"Loading took too much time!\")\n",
    "finally:\n",
    "    # Stop process\n",
    "    driver.quit()"
   ]
  },
  {
   "cell_type": "code",
   "execution_count": 12,
   "id": "b6705992",
   "metadata": {},
   "outputs": [],
   "source": [
    "# let's try to scrape some data from a website using Selenium\n",
    "\n",
    "# Set up Chrome options\n",
    "chrome_options = Options()\n",
    "# chrome_options.add_argument(\"--headless\")  # Run in headless mode\n",
    "chrome_options.add_argument(\"--disable-dev-shm-usage\")\n",
    "chrome_options.add_argument(\"--disable-gpu\")\n",
    "chrome_options.add_argument(\"--window-size=1920,1080\")\n",
    "chrome_options.add_argument(\"--disable-extensions\")\n",
    "chrome_options.add_argument(\"--disable-infobars\")\n",
    "def start_driver():\n",
    "    driver = webdriver.Chrome(options=chrome_options)\n",
    "    return driver\n",
    "\n",
    "# Path to your ChromeDriver\n",
    "chrome_driver_path = r'C:\\YoussefENSI_backup\\Eukliadia-test\\chromedriver.exe'  # Update this path\n",
    "service = Service(chrome_driver_path)\n",
    "# opening chrome window\n",
    "driver = webdriver.Chrome(service=service, options=chrome_options,)\n"
   ]
  },
  {
   "cell_type": "code",
   "execution_count": 6,
   "id": "76af7c65",
   "metadata": {},
   "outputs": [
    {
     "name": "stdout",
     "output_type": "stream",
     "text": [
      "Page is ready!\n"
     ]
    }
   ],
   "source": [
    "\n",
    "driver.get('https://www.linkedin.com/login?fromSignIn=true&trk=guest_homepage-basic_nav-header-signin')  # Replace with the target URL\n",
    "try:\n",
    "    # Wait until the element is present\n",
    "    element = WebDriverWait(driver, 10)\n",
    "    print(\"Page is ready!\")\n",
    "except TimeoutException:\n",
    "    print(\"Loading took too much time!\")\n",
    "finally:\n",
    "    # Stop process\n",
    "    driver.quit()"
   ]
  },
  {
   "cell_type": "code",
   "execution_count": 7,
   "id": "85fa67a0",
   "metadata": {},
   "outputs": [
    {
     "name": "stdout",
     "output_type": "stream",
     "text": [
      "ghaouiyoussef12@gmail.com\n"
     ]
    }
   ],
   "source": [
    "import os\n",
    "from dotenv import load_dotenv\n",
    "load_dotenv()\n",
    "LK_USERNAME = os.getenv('LK_USERNAME')\n",
    "LK_PASSWORD = os.getenv('LK_PASSWORD')\n",
    "print(LK_USERNAME)"
   ]
  },
  {
   "cell_type": "code",
   "execution_count": 13,
   "id": "398b975e",
   "metadata": {},
   "outputs": [
    {
     "name": "stdout",
     "output_type": "stream",
     "text": [
      "Page is ready!\n",
      "Login successful!\n"
     ]
    }
   ],
   "source": [
    "# lets try to login to linkedin\n",
    "# Two steps verification should be disabled for this to work    \n",
    "# driver = webdriver.Chrome(service=service, options=chrome_options,)\n",
    "driver.get('https://www.linkedin.com/login?fromSignIn=true&trk=guest_homepage-basic_nav-header-signin')  # Replace with the target URL\n",
    "    # Wait until the element is present\n",
    "element = WebDriverWait(driver, 10).until(\n",
    "    EC.presence_of_element_located((By.ID, \"username\"))\n",
    ")\n",
    "print(\"Page is ready!\") \n",
    "username = driver.find_element(By.ID, \"username\")\n",
    "password = driver.find_element(By.ID, \"password\")\n",
    "username.send_keys(LK_USERNAME)\n",
    "password.send_keys(LK_PASSWORD)\n",
    "login_button = driver.find_element(By.XPATH, '//*[@type=\"submit\"]')\n",
    "login_button.click()\n",
    "time.sleep(5)  # wait for 5 seconds to ensure the page loads\n",
    "print(\"Login successful!\")\n",
    "# except TimeoutException:\n",
    "#     print(\"Loading took too much time!\")    \n",
    "# finally:\n",
    "#     # Stop process\n",
    "#     driver.quit()"
   ]
  },
  {
   "cell_type": "code",
   "execution_count": 10,
   "id": "6b74aca5",
   "metadata": {},
   "outputs": [],
   "source": [
    "driver.quit()"
   ]
  },
  {
   "cell_type": "markdown",
   "id": "f45262bf",
   "metadata": {},
   "source": [
    "# Creating connecttion request on linkedin \n",
    "- LinkedIn Premium allows you to send up to 100 connection requests per week"
   ]
  },
  {
   "cell_type": "code",
   "execution_count": null,
   "id": "48f6d854",
   "metadata": {},
   "outputs": [],
   "source": [
    "# lets click the button LinkedIn Premium allows you to send up to 100 connection requests per week\n",
    "driver = webdriver.Chrome(service=service, options=chrome_options,)\n",
    "driver.get('https://www.linkedin.com/mynetwork/invite-connect/connections/')  # Replace with the target URL\n",
    "    # Wait until the element is present\n",
    "element = WebDriverWait(driver, 10).until(\n",
    "    EC.presence_of_element_located((By.CLASS_NAME, \"mn-connections\"))\n",
    ")"
   ]
  },
  {
   "cell_type": "code",
   "execution_count": 16,
   "id": "c013804f",
   "metadata": {},
   "outputs": [
    {
     "data": {
      "text/plain": [
       "[<selenium.webdriver.remote.webelement.WebElement (session=\"bbdf14bc8072e893eb5b8d0d57ba39fe\", element=\"f.C81144BC5832A83B84F5CD6788613324.d.C2157A9A2E96BEC703D1709869994823.e.18001\")>,\n",
       " <selenium.webdriver.remote.webelement.WebElement (session=\"bbdf14bc8072e893eb5b8d0d57ba39fe\", element=\"f.C81144BC5832A83B84F5CD6788613324.d.C2157A9A2E96BEC703D1709869994823.e.18003\")>,\n",
       " <selenium.webdriver.remote.webelement.WebElement (session=\"bbdf14bc8072e893eb5b8d0d57ba39fe\", element=\"f.C81144BC5832A83B84F5CD6788613324.d.C2157A9A2E96BEC703D1709869994823.e.18006\")>,\n",
       " <selenium.webdriver.remote.webelement.WebElement (session=\"bbdf14bc8072e893eb5b8d0d57ba39fe\", element=\"f.C81144BC5832A83B84F5CD6788613324.d.C2157A9A2E96BEC703D1709869994823.e.19867\")>,\n",
       " <selenium.webdriver.remote.webelement.WebElement (session=\"bbdf14bc8072e893eb5b8d0d57ba39fe\", element=\"f.C81144BC5832A83B84F5CD6788613324.d.C2157A9A2E96BEC703D1709869994823.e.19901\")>,\n",
       " <selenium.webdriver.remote.webelement.WebElement (session=\"bbdf14bc8072e893eb5b8d0d57ba39fe\", element=\"f.C81144BC5832A83B84F5CD6788613324.d.C2157A9A2E96BEC703D1709869994823.e.19931\")>,\n",
       " <selenium.webdriver.remote.webelement.WebElement (session=\"bbdf14bc8072e893eb5b8d0d57ba39fe\", element=\"f.C81144BC5832A83B84F5CD6788613324.d.C2157A9A2E96BEC703D1709869994823.e.19936\")>,\n",
       " <selenium.webdriver.remote.webelement.WebElement (session=\"bbdf14bc8072e893eb5b8d0d57ba39fe\", element=\"f.C81144BC5832A83B84F5CD6788613324.d.C2157A9A2E96BEC703D1709869994823.e.21655\")>,\n",
       " <selenium.webdriver.remote.webelement.WebElement (session=\"bbdf14bc8072e893eb5b8d0d57ba39fe\", element=\"f.C81144BC5832A83B84F5CD6788613324.d.C2157A9A2E96BEC703D1709869994823.e.21682\")>,\n",
       " <selenium.webdriver.remote.webelement.WebElement (session=\"bbdf14bc8072e893eb5b8d0d57ba39fe\", element=\"f.C81144BC5832A83B84F5CD6788613324.d.C2157A9A2E96BEC703D1709869994823.e.21740\")>,\n",
       " <selenium.webdriver.remote.webelement.WebElement (session=\"bbdf14bc8072e893eb5b8d0d57ba39fe\", element=\"f.C81144BC5832A83B84F5CD6788613324.d.C2157A9A2E96BEC703D1709869994823.e.21783\")>,\n",
       " <selenium.webdriver.remote.webelement.WebElement (session=\"bbdf14bc8072e893eb5b8d0d57ba39fe\", element=\"f.C81144BC5832A83B84F5CD6788613324.d.C2157A9A2E96BEC703D1709869994823.e.21821\")>,\n",
       " <selenium.webdriver.remote.webelement.WebElement (session=\"bbdf14bc8072e893eb5b8d0d57ba39fe\", element=\"f.C81144BC5832A83B84F5CD6788613324.d.C2157A9A2E96BEC703D1709869994823.e.21848\")>,\n",
       " <selenium.webdriver.remote.webelement.WebElement (session=\"bbdf14bc8072e893eb5b8d0d57ba39fe\", element=\"f.C81144BC5832A83B84F5CD6788613324.d.C2157A9A2E96BEC703D1709869994823.e.23277\")>,\n",
       " <selenium.webdriver.remote.webelement.WebElement (session=\"bbdf14bc8072e893eb5b8d0d57ba39fe\", element=\"f.C81144BC5832A83B84F5CD6788613324.d.C2157A9A2E96BEC703D1709869994823.e.23288\")>,\n",
       " <selenium.webdriver.remote.webelement.WebElement (session=\"bbdf14bc8072e893eb5b8d0d57ba39fe\", element=\"f.C81144BC5832A83B84F5CD6788613324.d.C2157A9A2E96BEC703D1709869994823.e.20394\")>,\n",
       " <selenium.webdriver.remote.webelement.WebElement (session=\"bbdf14bc8072e893eb5b8d0d57ba39fe\", element=\"f.C81144BC5832A83B84F5CD6788613324.d.C2157A9A2E96BEC703D1709869994823.e.20434\")>,\n",
       " <selenium.webdriver.remote.webelement.WebElement (session=\"bbdf14bc8072e893eb5b8d0d57ba39fe\", element=\"f.C81144BC5832A83B84F5CD6788613324.d.C2157A9A2E96BEC703D1709869994823.e.20491\")>,\n",
       " <selenium.webdriver.remote.webelement.WebElement (session=\"bbdf14bc8072e893eb5b8d0d57ba39fe\", element=\"f.C81144BC5832A83B84F5CD6788613324.d.C2157A9A2E96BEC703D1709869994823.e.20531\")>,\n",
       " <selenium.webdriver.remote.webelement.WebElement (session=\"bbdf14bc8072e893eb5b8d0d57ba39fe\", element=\"f.C81144BC5832A83B84F5CD6788613324.d.C2157A9A2E96BEC703D1709869994823.e.20571\")>,\n",
       " <selenium.webdriver.remote.webelement.WebElement (session=\"bbdf14bc8072e893eb5b8d0d57ba39fe\", element=\"f.C81144BC5832A83B84F5CD6788613324.d.C2157A9A2E96BEC703D1709869994823.e.20611\")>,\n",
       " <selenium.webdriver.remote.webelement.WebElement (session=\"bbdf14bc8072e893eb5b8d0d57ba39fe\", element=\"f.C81144BC5832A83B84F5CD6788613324.d.C2157A9A2E96BEC703D1709869994823.e.20660\")>,\n",
       " <selenium.webdriver.remote.webelement.WebElement (session=\"bbdf14bc8072e893eb5b8d0d57ba39fe\", element=\"f.C81144BC5832A83B84F5CD6788613324.d.C2157A9A2E96BEC703D1709869994823.e.20694\")>,\n",
       " <selenium.webdriver.remote.webelement.WebElement (session=\"bbdf14bc8072e893eb5b8d0d57ba39fe\", element=\"f.C81144BC5832A83B84F5CD6788613324.d.C2157A9A2E96BEC703D1709869994823.e.20728\")>,\n",
       " <selenium.webdriver.remote.webelement.WebElement (session=\"bbdf14bc8072e893eb5b8d0d57ba39fe\", element=\"f.C81144BC5832A83B84F5CD6788613324.d.C2157A9A2E96BEC703D1709869994823.e.20762\")>,\n",
       " <selenium.webdriver.remote.webelement.WebElement (session=\"bbdf14bc8072e893eb5b8d0d57ba39fe\", element=\"f.C81144BC5832A83B84F5CD6788613324.d.C2157A9A2E96BEC703D1709869994823.e.20796\")>,\n",
       " <selenium.webdriver.remote.webelement.WebElement (session=\"bbdf14bc8072e893eb5b8d0d57ba39fe\", element=\"f.C81144BC5832A83B84F5CD6788613324.d.C2157A9A2E96BEC703D1709869994823.e.20866\")>,\n",
       " <selenium.webdriver.remote.webelement.WebElement (session=\"bbdf14bc8072e893eb5b8d0d57ba39fe\", element=\"f.C81144BC5832A83B84F5CD6788613324.d.C2157A9A2E96BEC703D1709869994823.e.20913\")>]"
      ]
     },
     "execution_count": 16,
     "metadata": {},
     "output_type": "execute_result"
    }
   ],
   "source": [
    "li_list = WebDriverWait(driver, 10).until(\n",
    "            EC.presence_of_all_elements_located((By.CSS_SELECTOR, f\"button.artdeco-button.artdeco-button--2.artdeco-button--secondary.ember-view\"))\n",
    "        )\n",
    "li_list"
   ]
  },
  {
   "cell_type": "code",
   "execution_count": 20,
   "id": "4286e370",
   "metadata": {},
   "outputs": [],
   "source": [
    "target_btn = WebDriverWait(driver, 10).until(\n",
    "            EC.presence_of_all_elements_located((By.XPATH, f'//*[@id=\"ember111\"]'))\n",
    "        )\n",
    "\n",
    "target_btn[0].click()"
   ]
  },
  {
   "cell_type": "code",
   "execution_count": 21,
   "id": "b77860b2",
   "metadata": {},
   "outputs": [],
   "source": [
    "# lets write a message : //*[@id=\"base-form-ember425\"]/div[4]/div/div/div[1]\n",
    "message_box = WebDriverWait(driver, 10).until(\n",
    "            EC.presence_of_element_located((By.XPATH, f'//*[@id=\"base-form-ember425\"]/div[4]/div/div/div[1]'))\n",
    "        )\n",
    "message_box.send_keys(\"Hello, I would like to connect with you on LinkedIn!\")"
   ]
  },
  {
   "cell_type": "code",
   "execution_count": null,
   "id": "babb80c3",
   "metadata": {},
   "outputs": [],
   "source": [
    "# SEND message : //*[@id=\"ember429\"]\n",
    "send_button = WebDriverWait(driver, 10).until(\n",
    "            EC.presence_of_element_located((By.XPATH, f'//*[@id=\"ember429\"]'))\n",
    "        )\n"
   ]
  }
 ],
 "metadata": {
  "kernelspec": {
   "display_name": "NewBasePy312",
   "language": "python",
   "name": "python3"
  },
  "language_info": {
   "codemirror_mode": {
    "name": "ipython",
    "version": 3
   },
   "file_extension": ".py",
   "mimetype": "text/x-python",
   "name": "python",
   "nbconvert_exporter": "python",
   "pygments_lexer": "ipython3",
   "version": "3.12.2"
  }
 },
 "nbformat": 4,
 "nbformat_minor": 5
}
